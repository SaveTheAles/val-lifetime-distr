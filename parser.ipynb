{
 "cells": [
  {
   "cell_type": "code",
   "execution_count": 16,
   "metadata": {},
   "outputs": [],
   "source": [
    "import pandas as pd\n",
    "import urllib.request, json \n",
    "import time\n",
    "#from tqdm import tqdm_notebook as tqdm"
   ]
  },
  {
   "cell_type": "code",
   "execution_count": 2,
   "metadata": {},
   "outputs": [],
   "source": [
    "def parse(url):\n",
    "    with urllib.request.urlopen(url) as url:\n",
    "        data = json.loads(url.read().decode())\n",
    "        return data"
   ]
  },
  {
   "cell_type": "code",
   "execution_count": 19,
   "metadata": {},
   "outputs": [],
   "source": [
    "url = r'http://127.0.0.1:26657/validators?height=\"'"
   ]
  },
  {
   "cell_type": "code",
   "execution_count": 25,
   "metadata": {},
   "outputs": [],
   "source": [
    "results = []"
   ]
  },
  {
   "cell_type": "code",
   "execution_count": null,
   "metadata": {
    "scrolled": true
   },
   "outputs": [
    {
     "name": "stdout",
     "output_type": "stream",
     "text": [
      "BLOCK: 10000 -- 0.26 % TIME: 13.33 s\n",
      "BLOCK: 20000 -- 0.53 % TIME: 31.45 s\n",
      "BLOCK: 30000 -- 0.79 % TIME: 51.36 s\n",
      "BLOCK: 40000 -- 1.05 % TIME: 67.43 s\n",
      "BLOCK: 50000 -- 1.32 % TIME: 85.3 s\n",
      "BLOCK: 60000 -- 1.58 % TIME: 107.49 s\n",
      "BLOCK: 70000 -- 1.85 % TIME: 131.19 s\n",
      "BLOCK: 80000 -- 2.11 % TIME: 149.29 s\n",
      "BLOCK: 90000 -- 2.37 % TIME: 170.8 s\n",
      "BLOCK: 100000 -- 2.64 % TIME: 197.66 s\n",
      "BLOCK: 110000 -- 2.9 % TIME: 224.92 s\n"
     ]
    }
   ],
   "source": [
    "# перезапустить\n",
    "start_time = time.time()\n",
    "for i in range(2, 3792535):\n",
    "    url_p = url + str(i) + '\"'\n",
    "    data = parse(url_p)\n",
    "    results.append({\n",
    "                    'block': i,\n",
    "                    'validators': str(set([d['pub_key']['value'] for d in \n",
    "                                           data['result']['validators']]))})\n",
    "    if i%10000==0:\n",
    "        print('BLOCK:', i, \n",
    "              '--', round(i*100/3792535, 2), '%',\n",
    "              'TIME:', round((time.time()-start_time), 2), 's')\n",
    "   "
   ]
  },
  {
   "cell_type": "code",
   "execution_count": 23,
   "metadata": {},
   "outputs": [
    {
     "data": {
      "text/plain": [
       "{'block': 67761,\n",
       " 'validators': \"{'bo35XxXyIDn9znqS+SipU2sVSMW8KF9KQPRaKjcz/HM=', 'TBsw6+2DSpLzDWwsyQOwL+LDI950vI+MMzKFqwYoOB8=', 'kJdUUEWBMYwVkxvue2hn+nIsfkzrtH4YSFRy7DflJo8=', 'MndnA1xkRpg51c7+grh5oPU6vS+eMhapYgC6ffnyGNA=', 'm5m+L4jS51XuEPT7ynPBGoZi3Aj+HpWsT25jwWpCXoU=', 'er5nOfcT583OQP/QeLR/Wqpl+ttrr3seCwmiZpkTv6U='}\"}"
      ]
     },
     "execution_count": 23,
     "metadata": {},
     "output_type": "execute_result"
    }
   ],
   "source": [
    "results[-1]"
   ]
  },
  {
   "cell_type": "code",
   "execution_count": null,
   "metadata": {},
   "outputs": [],
   "source": [
    "# посмотреть последний блок на котором прервалось\n",
    "print(results[-1])"
   ]
  },
  {
   "cell_type": "code",
   "execution_count": null,
   "metadata": {},
   "outputs": [],
   "source": [
    "pd.DataFrame(results).to_csv('val_test.csv')"
   ]
  }
 ],
 "metadata": {
  "kernelspec": {
   "display_name": "Python 3",
   "language": "python",
   "name": "python3"
  },
  "language_info": {
   "codemirror_mode": {
    "name": "ipython",
    "version": 3
   },
   "file_extension": ".py",
   "mimetype": "text/x-python",
   "name": "python",
   "nbconvert_exporter": "python",
   "pygments_lexer": "ipython3",
   "version": "3.7.0"
  }
 },
 "nbformat": 4,
 "nbformat_minor": 2
}
