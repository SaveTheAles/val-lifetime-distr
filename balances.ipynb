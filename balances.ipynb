{
 "cells": [
  {
   "cell_type": "markdown",
   "metadata": {},
   "source": [
    "### Исходное задание \n",
    "1. нужно скачивать информацию о блоке и сохранять (чтобы каждый раз не тянуть данные, а если нужно то подгрузить, лучше в несколько потоков)\n",
    "http://93.125.26.210:34657/block?height=300\n",
    "2. далее распарсить итеративно все блоки и сохранить информацию о коммитах для каждого валидатора для каждого блока\n",
    "3. нарисовать графики для валидаторов, график лайфтайма\n",
    "4. расчитать вознаграждение для каждого исходя из линейно возрастающей награды за каждый блок\n",
    "5. выдать таблицу - валидатор, баланс"
   ]
  },
  {
   "cell_type": "code",
   "execution_count": null,
   "metadata": {},
   "outputs": [],
   "source": [
    "import pandas as pd"
   ]
  },
  {
   "cell_type": "code",
   "execution_count": null,
   "metadata": {},
   "outputs": [],
   "source": [
    "import json"
   ]
  },
  {
   "cell_type": "code",
   "execution_count": null,
   "metadata": {},
   "outputs": [],
   "source": [
    "from tqdm import tqdm_notebook"
   ]
  },
  {
   "cell_type": "code",
   "execution_count": null,
   "metadata": {},
   "outputs": [],
   "source": [
    "%matplotlib inline\n",
    "import matplotlib.pyplot as plt"
   ]
  },
  {
   "cell_type": "code",
   "execution_count": null,
   "metadata": {},
   "outputs": [],
   "source": [
    "import plotly.graph_objects as go"
   ]
  },
  {
   "cell_type": "code",
   "execution_count": null,
   "metadata": {},
   "outputs": [],
   "source": [
    "import numpy as np"
   ]
  },
  {
   "cell_type": "code",
   "execution_count": null,
   "metadata": {},
   "outputs": [],
   "source": [
    "# validators_df = pd.read_csv(\"euler_validators_2.csv\", usecols=[\"block\", \"validators\"])"
   ]
  },
  {
   "cell_type": "code",
   "execution_count": null,
   "metadata": {},
   "outputs": [],
   "source": [
    "# validators_df[[\"block\", \"validators\"]].to_csv(\"euler_validators.csv\")"
   ]
  },
  {
   "cell_type": "code",
   "execution_count": null,
   "metadata": {},
   "outputs": [],
   "source": [
    "validators_df = pd.read_csv(\"val_test.csv\") #pd.read_csv(\"euler_validators2.csv\")"
   ]
  },
  {
   "cell_type": "code",
   "execution_count": null,
   "metadata": {},
   "outputs": [],
   "source": [
    "validators_df.columns = ['index', 'block', 'validators']"
   ]
  },
  {
   "cell_type": "code",
   "execution_count": null,
   "metadata": {},
   "outputs": [],
   "source": [
    "validators_df[\"validators\"] = validators_df[\"validators\"].apply(\n",
    "    lambda x: eval(x))"
   ]
  },
  {
   "cell_type": "code",
   "execution_count": null,
   "metadata": {
    "scrolled": true
   },
   "outputs": [],
   "source": [
    "validators_df"
   ]
  },
  {
   "cell_type": "code",
   "execution_count": null,
   "metadata": {},
   "outputs": [],
   "source": [
    "# validators_df[\"validators\"] = validators_df[\"validators\"].apply(lambda x: set(x))"
   ]
  },
  {
   "cell_type": "code",
   "execution_count": null,
   "metadata": {},
   "outputs": [],
   "source": [
    "all_validators = set([v for v_list in validators_df[\"validators\"].tolist() for v in v_list])"
   ]
  },
  {
   "cell_type": "code",
   "execution_count": null,
   "metadata": {},
   "outputs": [],
   "source": [
    "all_validators"
   ]
  },
  {
   "cell_type": "markdown",
   "metadata": {},
   "source": [
    "### Визуализация работы валидаторов"
   ]
  },
  {
   "cell_type": "code",
   "execution_count": null,
   "metadata": {},
   "outputs": [],
   "source": [
    "# Последний актуальный блок\n",
    "MAX_BLOCK = validators_df[\"block\"].max()\n",
    "MAX_BLOCK"
   ]
  },
  {
   "cell_type": "code",
   "execution_count": null,
   "metadata": {},
   "outputs": [],
   "source": [
    "validators_df[\"rounded_block\"] = validators_df[\"block\"].round(-4)"
   ]
  },
  {
   "cell_type": "code",
   "execution_count": null,
   "metadata": {},
   "outputs": [],
   "source": [
    "validators_df[\"rounded_block\"].nunique()"
   ]
  },
  {
   "cell_type": "code",
   "execution_count": null,
   "metadata": {},
   "outputs": [],
   "source": [
    "x = validators_df[\"rounded_block\"].unique().tolist()"
   ]
  },
  {
   "cell_type": "code",
   "execution_count": null,
   "metadata": {},
   "outputs": [],
   "source": [
    "all_y = []\n",
    "labels = []\n",
    "validator_traces = {}\n",
    "for validator in tqdm_notebook(all_validators):\n",
    "    validators_df[\"validator_mask\"] = validators_df[\"validators\"].apply(lambda x: validator in x).astype(float)\n",
    "    y = validators_df.groupby(\"rounded_block\")[\"validator_mask\"].sum().tolist()\n",
    "    all_y.append(y)\n",
    "    labels.append(validator)\n",
    "    validator_traces[validator] = y"
   ]
  },
  {
   "cell_type": "code",
   "execution_count": null,
   "metadata": {},
   "outputs": [],
   "source": [
    "import matplotlib\n",
    "cmap = matplotlib.cm.get_cmap('jet')"
   ]
  },
  {
   "cell_type": "code",
   "execution_count": null,
   "metadata": {},
   "outputs": [],
   "source": [
    "validator_colors = {\n",
    "    validator: \"rgba({})\".format(\", \".join([str(int(color * 255)) for color in cmap(np.sum(trace) / MAX_BLOCK)]))\n",
    "    for validator, trace in validator_traces.items()\n",
    "}"
   ]
  },
  {
   "cell_type": "code",
   "execution_count": null,
   "metadata": {},
   "outputs": [],
   "source": [
    "fig = go.Figure()\n",
    "\n",
    "for validator, y in validator_traces.items():\n",
    "    fig.add_trace(go.Scatter(\n",
    "        x=x, y=y,\n",
    "        mode='lines',\n",
    "        name=validator[0:5] + \"...\",\n",
    "        line=dict(width=0.5, color=validator_colors[validator]),\n",
    "        stackgroup='one',\n",
    "        groupnorm='percent'\n",
    "    ))\n",
    "\n",
    "fig.update_layout(\n",
    "    showlegend=True,\n",
    "    xaxis_type='linear',\n",
    "    yaxis=dict(\n",
    "        type='linear',\n",
    "        range=[1, 100],\n",
    "        ticksuffix='%'))\n",
    "\n",
    "fig.show()"
   ]
  },
  {
   "cell_type": "markdown",
   "metadata": {},
   "source": [
    "### Расчет вознаграждения для каждого валидатора"
   ]
  },
  {
   "cell_type": "code",
   "execution_count": null,
   "metadata": {},
   "outputs": [],
   "source": [
    "# Количество токенов, участвующее в раздаче\n",
    "AMOUNT_OF_TOKENS = 10000000"
   ]
  },
  {
   "cell_type": "code",
   "execution_count": null,
   "metadata": {},
   "outputs": [],
   "source": [
    "# Коэффициенты прямой для вычисления вознаграждения\n",
    "K = 1\n",
    "B = 0"
   ]
  },
  {
   "cell_type": "markdown",
   "metadata": {},
   "source": [
    "Вопрос: как влияют эти коэффициенты на вознаграждение валидаторов?"
   ]
  },
  {
   "cell_type": "code",
   "execution_count": null,
   "metadata": {},
   "outputs": [],
   "source": [
    "def linear(block):\n",
    "    return K * block + B"
   ]
  },
  {
   "cell_type": "code",
   "execution_count": null,
   "metadata": {},
   "outputs": [],
   "source": [
    "validators_df[\"total_reward_part\"] = validators_df[\"block\"].apply(lambda x: linear(x)) "
   ]
  },
  {
   "cell_type": "code",
   "execution_count": null,
   "metadata": {},
   "outputs": [],
   "source": [
    "validators_df[\"total_validators\"] = validators_df[\"validators\"].apply(lambda x: len(x))"
   ]
  },
  {
   "cell_type": "code",
   "execution_count": null,
   "metadata": {},
   "outputs": [],
   "source": [
    "validators_df[\"validator_reward_part\"] = validators_df[\"total_reward_part\"] / validators_df[\"total_validators\"] / validators_df[\"total_reward_part\"].sum()"
   ]
  },
  {
   "cell_type": "code",
   "execution_count": null,
   "metadata": {},
   "outputs": [],
   "source": [
    "rewards = {}\n",
    "\n",
    "for validator in tqdm_notebook(all_validators):\n",
    "    validator_reward = validators_df[validators_df[\"validators\"].apply(lambda x: validator in x)][\"validator_reward_part\"].sum()\n",
    "    rewards[validator] = validator_reward * AMOUNT_OF_TOKENS"
   ]
  },
  {
   "cell_type": "code",
   "execution_count": null,
   "metadata": {},
   "outputs": [],
   "source": [
    "balances_df = pd.Series(rewards).to_frame().reset_index().rename(columns={0: \"balance\", \"index\": \"address\"}).set_index(\"address\").sort_values(\"balance\", ascending=False)"
   ]
  },
  {
   "cell_type": "code",
   "execution_count": null,
   "metadata": {},
   "outputs": [],
   "source": [
    "balances_df = balances_df.reset_index()"
   ]
  },
  {
   "cell_type": "code",
   "execution_count": null,
   "metadata": {},
   "outputs": [],
   "source": [
    "balances_df"
   ]
  },
  {
   "cell_type": "code",
   "execution_count": null,
   "metadata": {},
   "outputs": [],
   "source": [
    "#balances_df.sort_values(\"balance\").plot(kind=\"barh\", figsize=(10, 25))"
   ]
  },
  {
   "cell_type": "code",
   "execution_count": null,
   "metadata": {},
   "outputs": [],
   "source": [
    "with open('balance.json', 'w') as json_file:\n",
    "    json.dump(dict(zip([i for i in balances_df['address']],\n",
    "                       [i for i in balances_df['balance']])), \n",
    "              json_file)\n"
   ]
  }
 ],
 "metadata": {
  "kernelspec": {
   "display_name": "Python 3",
   "language": "python",
   "name": "python3"
  },
  "language_info": {
   "codemirror_mode": {
    "name": "ipython",
    "version": 3
   },
   "file_extension": ".py",
   "mimetype": "text/x-python",
   "name": "python",
   "nbconvert_exporter": "python",
   "pygments_lexer": "ipython3",
   "version": "3.7.0"
  }
 },
 "nbformat": 4,
 "nbformat_minor": 2
}
