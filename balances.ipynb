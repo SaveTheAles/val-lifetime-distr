{
 "cells": [
  {
   "cell_type": "markdown",
   "metadata": {},
   "source": [
    "### Исходное задание \n",
    "1. нужно скачивать информацию о блоке и сохранять (чтобы каждый раз не тянуть данные, а если нужно то подгрузить, лучше в несколько потоков)\n",
    "http://93.125.26.210:34657/block?height=300\n",
    "2. далее распарсить итеративно все блоки и сохранить информацию о коммитах для каждого валидатора для каждого блока\n",
    "3. нарисовать графики для валидаторов, график лайфтайма\n",
    "4. расчитать вознаграждение для каждого исходя из линейно возрастающей награды за каждый блок\n",
    "5. выдать таблицу - валидатор, баланс"
   ]
  },
  {
   "cell_type": "code",
   "execution_count": 8,
   "metadata": {},
   "outputs": [],
   "source": [
    "import pandas as pd"
   ]
  },
  {
   "cell_type": "code",
   "execution_count": 116,
   "metadata": {},
   "outputs": [],
   "source": [
    "import json"
   ]
  },
  {
   "cell_type": "code",
   "execution_count": 9,
   "metadata": {},
   "outputs": [],
   "source": [
    "from tqdm import tqdm_notebook"
   ]
  },
  {
   "cell_type": "code",
   "execution_count": 10,
   "metadata": {},
   "outputs": [],
   "source": [
    "%matplotlib inline\n",
    "import matplotlib.pyplot as plt"
   ]
  },
  {
   "cell_type": "code",
   "execution_count": 12,
   "metadata": {},
   "outputs": [],
   "source": [
    "import plotly.graph_objects as go"
   ]
  },
  {
   "cell_type": "code",
   "execution_count": 13,
   "metadata": {},
   "outputs": [],
   "source": [
    "import numpy as np"
   ]
  },
  {
   "cell_type": "code",
   "execution_count": 6,
   "metadata": {},
   "outputs": [],
   "source": [
    "# validators_df = pd.read_csv(\"euler_validators_2.csv\", usecols=[\"block\", \"validators\"])"
   ]
  },
  {
   "cell_type": "code",
   "execution_count": 7,
   "metadata": {},
   "outputs": [],
   "source": [
    "# validators_df[[\"block\", \"validators\"]].to_csv(\"euler_validators.csv\")"
   ]
  },
  {
   "cell_type": "code",
   "execution_count": 86,
   "metadata": {},
   "outputs": [],
   "source": [
    "validators_df = pd.read_csv(\"val_test.csv\") #pd.read_csv(\"euler_validators2.csv\")"
   ]
  },
  {
   "cell_type": "code",
   "execution_count": 87,
   "metadata": {},
   "outputs": [],
   "source": [
    "validators_df.columns = ['index', 'block', 'validators']"
   ]
  },
  {
   "cell_type": "code",
   "execution_count": 88,
   "metadata": {},
   "outputs": [],
   "source": [
    "validators_df[\"validators\"] = validators_df[\"validators\"].apply(\n",
    "    lambda x: eval(x))"
   ]
  },
  {
   "cell_type": "code",
   "execution_count": 89,
   "metadata": {
    "scrolled": true
   },
   "outputs": [
    {
     "data": {
      "text/html": [
       "<div>\n",
       "<style scoped>\n",
       "    .dataframe tbody tr th:only-of-type {\n",
       "        vertical-align: middle;\n",
       "    }\n",
       "\n",
       "    .dataframe tbody tr th {\n",
       "        vertical-align: top;\n",
       "    }\n",
       "\n",
       "    .dataframe thead th {\n",
       "        text-align: right;\n",
       "    }\n",
       "</style>\n",
       "<table border=\"1\" class=\"dataframe\">\n",
       "  <thead>\n",
       "    <tr style=\"text-align: right;\">\n",
       "      <th></th>\n",
       "      <th>index</th>\n",
       "      <th>block</th>\n",
       "      <th>validators</th>\n",
       "    </tr>\n",
       "  </thead>\n",
       "  <tbody>\n",
       "    <tr>\n",
       "      <th>0</th>\n",
       "      <td>0</td>\n",
       "      <td>2000000</td>\n",
       "      <td>{er5nOfcT583OQP/QeLR/Wqpl+ttrr3seCwmiZpkTv6U=,...</td>\n",
       "    </tr>\n",
       "    <tr>\n",
       "      <th>1</th>\n",
       "      <td>1</td>\n",
       "      <td>2000001</td>\n",
       "      <td>{er5nOfcT583OQP/QeLR/Wqpl+ttrr3seCwmiZpkTv6U=,...</td>\n",
       "    </tr>\n",
       "    <tr>\n",
       "      <th>2</th>\n",
       "      <td>2</td>\n",
       "      <td>2000002</td>\n",
       "      <td>{er5nOfcT583OQP/QeLR/Wqpl+ttrr3seCwmiZpkTv6U=,...</td>\n",
       "    </tr>\n",
       "    <tr>\n",
       "      <th>3</th>\n",
       "      <td>3</td>\n",
       "      <td>2000003</td>\n",
       "      <td>{er5nOfcT583OQP/QeLR/Wqpl+ttrr3seCwmiZpkTv6U=,...</td>\n",
       "    </tr>\n",
       "    <tr>\n",
       "      <th>4</th>\n",
       "      <td>4</td>\n",
       "      <td>2000004</td>\n",
       "      <td>{er5nOfcT583OQP/QeLR/Wqpl+ttrr3seCwmiZpkTv6U=,...</td>\n",
       "    </tr>\n",
       "    <tr>\n",
       "      <th>5</th>\n",
       "      <td>5</td>\n",
       "      <td>2000005</td>\n",
       "      <td>{er5nOfcT583OQP/QeLR/Wqpl+ttrr3seCwmiZpkTv6U=,...</td>\n",
       "    </tr>\n",
       "    <tr>\n",
       "      <th>6</th>\n",
       "      <td>6</td>\n",
       "      <td>2000006</td>\n",
       "      <td>{er5nOfcT583OQP/QeLR/Wqpl+ttrr3seCwmiZpkTv6U=,...</td>\n",
       "    </tr>\n",
       "    <tr>\n",
       "      <th>7</th>\n",
       "      <td>7</td>\n",
       "      <td>2000007</td>\n",
       "      <td>{er5nOfcT583OQP/QeLR/Wqpl+ttrr3seCwmiZpkTv6U=,...</td>\n",
       "    </tr>\n",
       "    <tr>\n",
       "      <th>8</th>\n",
       "      <td>8</td>\n",
       "      <td>2000008</td>\n",
       "      <td>{er5nOfcT583OQP/QeLR/Wqpl+ttrr3seCwmiZpkTv6U=,...</td>\n",
       "    </tr>\n",
       "    <tr>\n",
       "      <th>9</th>\n",
       "      <td>9</td>\n",
       "      <td>2000009</td>\n",
       "      <td>{er5nOfcT583OQP/QeLR/Wqpl+ttrr3seCwmiZpkTv6U=,...</td>\n",
       "    </tr>\n",
       "    <tr>\n",
       "      <th>10</th>\n",
       "      <td>10</td>\n",
       "      <td>2000010</td>\n",
       "      <td>{er5nOfcT583OQP/QeLR/Wqpl+ttrr3seCwmiZpkTv6U=,...</td>\n",
       "    </tr>\n",
       "    <tr>\n",
       "      <th>11</th>\n",
       "      <td>11</td>\n",
       "      <td>2000011</td>\n",
       "      <td>{er5nOfcT583OQP/QeLR/Wqpl+ttrr3seCwmiZpkTv6U=,...</td>\n",
       "    </tr>\n",
       "    <tr>\n",
       "      <th>12</th>\n",
       "      <td>12</td>\n",
       "      <td>2000012</td>\n",
       "      <td>{er5nOfcT583OQP/QeLR/Wqpl+ttrr3seCwmiZpkTv6U=,...</td>\n",
       "    </tr>\n",
       "    <tr>\n",
       "      <th>13</th>\n",
       "      <td>13</td>\n",
       "      <td>2000013</td>\n",
       "      <td>{er5nOfcT583OQP/QeLR/Wqpl+ttrr3seCwmiZpkTv6U=,...</td>\n",
       "    </tr>\n",
       "    <tr>\n",
       "      <th>14</th>\n",
       "      <td>14</td>\n",
       "      <td>2000014</td>\n",
       "      <td>{er5nOfcT583OQP/QeLR/Wqpl+ttrr3seCwmiZpkTv6U=,...</td>\n",
       "    </tr>\n",
       "    <tr>\n",
       "      <th>15</th>\n",
       "      <td>15</td>\n",
       "      <td>2000015</td>\n",
       "      <td>{er5nOfcT583OQP/QeLR/Wqpl+ttrr3seCwmiZpkTv6U=,...</td>\n",
       "    </tr>\n",
       "    <tr>\n",
       "      <th>16</th>\n",
       "      <td>16</td>\n",
       "      <td>2000016</td>\n",
       "      <td>{er5nOfcT583OQP/QeLR/Wqpl+ttrr3seCwmiZpkTv6U=,...</td>\n",
       "    </tr>\n",
       "    <tr>\n",
       "      <th>17</th>\n",
       "      <td>17</td>\n",
       "      <td>2000017</td>\n",
       "      <td>{er5nOfcT583OQP/QeLR/Wqpl+ttrr3seCwmiZpkTv6U=,...</td>\n",
       "    </tr>\n",
       "    <tr>\n",
       "      <th>18</th>\n",
       "      <td>18</td>\n",
       "      <td>2000018</td>\n",
       "      <td>{er5nOfcT583OQP/QeLR/Wqpl+ttrr3seCwmiZpkTv6U=,...</td>\n",
       "    </tr>\n",
       "    <tr>\n",
       "      <th>19</th>\n",
       "      <td>19</td>\n",
       "      <td>2000019</td>\n",
       "      <td>{er5nOfcT583OQP/QeLR/Wqpl+ttrr3seCwmiZpkTv6U=,...</td>\n",
       "    </tr>\n",
       "    <tr>\n",
       "      <th>20</th>\n",
       "      <td>20</td>\n",
       "      <td>2000020</td>\n",
       "      <td>{er5nOfcT583OQP/QeLR/Wqpl+ttrr3seCwmiZpkTv6U=,...</td>\n",
       "    </tr>\n",
       "    <tr>\n",
       "      <th>21</th>\n",
       "      <td>21</td>\n",
       "      <td>2000021</td>\n",
       "      <td>{er5nOfcT583OQP/QeLR/Wqpl+ttrr3seCwmiZpkTv6U=,...</td>\n",
       "    </tr>\n",
       "    <tr>\n",
       "      <th>22</th>\n",
       "      <td>22</td>\n",
       "      <td>2000022</td>\n",
       "      <td>{er5nOfcT583OQP/QeLR/Wqpl+ttrr3seCwmiZpkTv6U=,...</td>\n",
       "    </tr>\n",
       "    <tr>\n",
       "      <th>23</th>\n",
       "      <td>23</td>\n",
       "      <td>2000023</td>\n",
       "      <td>{er5nOfcT583OQP/QeLR/Wqpl+ttrr3seCwmiZpkTv6U=,...</td>\n",
       "    </tr>\n",
       "    <tr>\n",
       "      <th>24</th>\n",
       "      <td>24</td>\n",
       "      <td>2000024</td>\n",
       "      <td>{er5nOfcT583OQP/QeLR/Wqpl+ttrr3seCwmiZpkTv6U=,...</td>\n",
       "    </tr>\n",
       "    <tr>\n",
       "      <th>25</th>\n",
       "      <td>25</td>\n",
       "      <td>2000025</td>\n",
       "      <td>{er5nOfcT583OQP/QeLR/Wqpl+ttrr3seCwmiZpkTv6U=,...</td>\n",
       "    </tr>\n",
       "    <tr>\n",
       "      <th>26</th>\n",
       "      <td>26</td>\n",
       "      <td>2000026</td>\n",
       "      <td>{er5nOfcT583OQP/QeLR/Wqpl+ttrr3seCwmiZpkTv6U=,...</td>\n",
       "    </tr>\n",
       "    <tr>\n",
       "      <th>27</th>\n",
       "      <td>27</td>\n",
       "      <td>2000027</td>\n",
       "      <td>{er5nOfcT583OQP/QeLR/Wqpl+ttrr3seCwmiZpkTv6U=,...</td>\n",
       "    </tr>\n",
       "    <tr>\n",
       "      <th>28</th>\n",
       "      <td>28</td>\n",
       "      <td>2000028</td>\n",
       "      <td>{er5nOfcT583OQP/QeLR/Wqpl+ttrr3seCwmiZpkTv6U=,...</td>\n",
       "    </tr>\n",
       "    <tr>\n",
       "      <th>29</th>\n",
       "      <td>29</td>\n",
       "      <td>2000029</td>\n",
       "      <td>{er5nOfcT583OQP/QeLR/Wqpl+ttrr3seCwmiZpkTv6U=,...</td>\n",
       "    </tr>\n",
       "    <tr>\n",
       "      <th>...</th>\n",
       "      <td>...</td>\n",
       "      <td>...</td>\n",
       "      <td>...</td>\n",
       "    </tr>\n",
       "    <tr>\n",
       "      <th>9970</th>\n",
       "      <td>9970</td>\n",
       "      <td>2009970</td>\n",
       "      <td>{er5nOfcT583OQP/QeLR/Wqpl+ttrr3seCwmiZpkTv6U=,...</td>\n",
       "    </tr>\n",
       "    <tr>\n",
       "      <th>9971</th>\n",
       "      <td>9971</td>\n",
       "      <td>2009971</td>\n",
       "      <td>{er5nOfcT583OQP/QeLR/Wqpl+ttrr3seCwmiZpkTv6U=,...</td>\n",
       "    </tr>\n",
       "    <tr>\n",
       "      <th>9972</th>\n",
       "      <td>9972</td>\n",
       "      <td>2009972</td>\n",
       "      <td>{er5nOfcT583OQP/QeLR/Wqpl+ttrr3seCwmiZpkTv6U=,...</td>\n",
       "    </tr>\n",
       "    <tr>\n",
       "      <th>9973</th>\n",
       "      <td>9973</td>\n",
       "      <td>2009973</td>\n",
       "      <td>{er5nOfcT583OQP/QeLR/Wqpl+ttrr3seCwmiZpkTv6U=,...</td>\n",
       "    </tr>\n",
       "    <tr>\n",
       "      <th>9974</th>\n",
       "      <td>9974</td>\n",
       "      <td>2009974</td>\n",
       "      <td>{er5nOfcT583OQP/QeLR/Wqpl+ttrr3seCwmiZpkTv6U=,...</td>\n",
       "    </tr>\n",
       "    <tr>\n",
       "      <th>9975</th>\n",
       "      <td>9975</td>\n",
       "      <td>2009975</td>\n",
       "      <td>{er5nOfcT583OQP/QeLR/Wqpl+ttrr3seCwmiZpkTv6U=,...</td>\n",
       "    </tr>\n",
       "    <tr>\n",
       "      <th>9976</th>\n",
       "      <td>9976</td>\n",
       "      <td>2009976</td>\n",
       "      <td>{er5nOfcT583OQP/QeLR/Wqpl+ttrr3seCwmiZpkTv6U=,...</td>\n",
       "    </tr>\n",
       "    <tr>\n",
       "      <th>9977</th>\n",
       "      <td>9977</td>\n",
       "      <td>2009977</td>\n",
       "      <td>{er5nOfcT583OQP/QeLR/Wqpl+ttrr3seCwmiZpkTv6U=,...</td>\n",
       "    </tr>\n",
       "    <tr>\n",
       "      <th>9978</th>\n",
       "      <td>9978</td>\n",
       "      <td>2009978</td>\n",
       "      <td>{er5nOfcT583OQP/QeLR/Wqpl+ttrr3seCwmiZpkTv6U=,...</td>\n",
       "    </tr>\n",
       "    <tr>\n",
       "      <th>9979</th>\n",
       "      <td>9979</td>\n",
       "      <td>2009979</td>\n",
       "      <td>{er5nOfcT583OQP/QeLR/Wqpl+ttrr3seCwmiZpkTv6U=,...</td>\n",
       "    </tr>\n",
       "    <tr>\n",
       "      <th>9980</th>\n",
       "      <td>9980</td>\n",
       "      <td>2009980</td>\n",
       "      <td>{er5nOfcT583OQP/QeLR/Wqpl+ttrr3seCwmiZpkTv6U=,...</td>\n",
       "    </tr>\n",
       "    <tr>\n",
       "      <th>9981</th>\n",
       "      <td>9981</td>\n",
       "      <td>2009981</td>\n",
       "      <td>{er5nOfcT583OQP/QeLR/Wqpl+ttrr3seCwmiZpkTv6U=,...</td>\n",
       "    </tr>\n",
       "    <tr>\n",
       "      <th>9982</th>\n",
       "      <td>9982</td>\n",
       "      <td>2009982</td>\n",
       "      <td>{er5nOfcT583OQP/QeLR/Wqpl+ttrr3seCwmiZpkTv6U=,...</td>\n",
       "    </tr>\n",
       "    <tr>\n",
       "      <th>9983</th>\n",
       "      <td>9983</td>\n",
       "      <td>2009983</td>\n",
       "      <td>{er5nOfcT583OQP/QeLR/Wqpl+ttrr3seCwmiZpkTv6U=,...</td>\n",
       "    </tr>\n",
       "    <tr>\n",
       "      <th>9984</th>\n",
       "      <td>9984</td>\n",
       "      <td>2009984</td>\n",
       "      <td>{er5nOfcT583OQP/QeLR/Wqpl+ttrr3seCwmiZpkTv6U=,...</td>\n",
       "    </tr>\n",
       "    <tr>\n",
       "      <th>9985</th>\n",
       "      <td>9985</td>\n",
       "      <td>2009985</td>\n",
       "      <td>{er5nOfcT583OQP/QeLR/Wqpl+ttrr3seCwmiZpkTv6U=,...</td>\n",
       "    </tr>\n",
       "    <tr>\n",
       "      <th>9986</th>\n",
       "      <td>9986</td>\n",
       "      <td>2009986</td>\n",
       "      <td>{er5nOfcT583OQP/QeLR/Wqpl+ttrr3seCwmiZpkTv6U=,...</td>\n",
       "    </tr>\n",
       "    <tr>\n",
       "      <th>9987</th>\n",
       "      <td>9987</td>\n",
       "      <td>2009987</td>\n",
       "      <td>{er5nOfcT583OQP/QeLR/Wqpl+ttrr3seCwmiZpkTv6U=,...</td>\n",
       "    </tr>\n",
       "    <tr>\n",
       "      <th>9988</th>\n",
       "      <td>9988</td>\n",
       "      <td>2009988</td>\n",
       "      <td>{er5nOfcT583OQP/QeLR/Wqpl+ttrr3seCwmiZpkTv6U=,...</td>\n",
       "    </tr>\n",
       "    <tr>\n",
       "      <th>9989</th>\n",
       "      <td>9989</td>\n",
       "      <td>2009989</td>\n",
       "      <td>{er5nOfcT583OQP/QeLR/Wqpl+ttrr3seCwmiZpkTv6U=,...</td>\n",
       "    </tr>\n",
       "    <tr>\n",
       "      <th>9990</th>\n",
       "      <td>9990</td>\n",
       "      <td>2009990</td>\n",
       "      <td>{er5nOfcT583OQP/QeLR/Wqpl+ttrr3seCwmiZpkTv6U=,...</td>\n",
       "    </tr>\n",
       "    <tr>\n",
       "      <th>9991</th>\n",
       "      <td>9991</td>\n",
       "      <td>2009991</td>\n",
       "      <td>{er5nOfcT583OQP/QeLR/Wqpl+ttrr3seCwmiZpkTv6U=,...</td>\n",
       "    </tr>\n",
       "    <tr>\n",
       "      <th>9992</th>\n",
       "      <td>9992</td>\n",
       "      <td>2009992</td>\n",
       "      <td>{er5nOfcT583OQP/QeLR/Wqpl+ttrr3seCwmiZpkTv6U=,...</td>\n",
       "    </tr>\n",
       "    <tr>\n",
       "      <th>9993</th>\n",
       "      <td>9993</td>\n",
       "      <td>2009993</td>\n",
       "      <td>{er5nOfcT583OQP/QeLR/Wqpl+ttrr3seCwmiZpkTv6U=,...</td>\n",
       "    </tr>\n",
       "    <tr>\n",
       "      <th>9994</th>\n",
       "      <td>9994</td>\n",
       "      <td>2009994</td>\n",
       "      <td>{er5nOfcT583OQP/QeLR/Wqpl+ttrr3seCwmiZpkTv6U=,...</td>\n",
       "    </tr>\n",
       "    <tr>\n",
       "      <th>9995</th>\n",
       "      <td>9995</td>\n",
       "      <td>2009995</td>\n",
       "      <td>{er5nOfcT583OQP/QeLR/Wqpl+ttrr3seCwmiZpkTv6U=,...</td>\n",
       "    </tr>\n",
       "    <tr>\n",
       "      <th>9996</th>\n",
       "      <td>9996</td>\n",
       "      <td>2009996</td>\n",
       "      <td>{er5nOfcT583OQP/QeLR/Wqpl+ttrr3seCwmiZpkTv6U=,...</td>\n",
       "    </tr>\n",
       "    <tr>\n",
       "      <th>9997</th>\n",
       "      <td>9997</td>\n",
       "      <td>2009997</td>\n",
       "      <td>{er5nOfcT583OQP/QeLR/Wqpl+ttrr3seCwmiZpkTv6U=,...</td>\n",
       "    </tr>\n",
       "    <tr>\n",
       "      <th>9998</th>\n",
       "      <td>9998</td>\n",
       "      <td>2009998</td>\n",
       "      <td>{er5nOfcT583OQP/QeLR/Wqpl+ttrr3seCwmiZpkTv6U=,...</td>\n",
       "    </tr>\n",
       "    <tr>\n",
       "      <th>9999</th>\n",
       "      <td>9999</td>\n",
       "      <td>2009999</td>\n",
       "      <td>{er5nOfcT583OQP/QeLR/Wqpl+ttrr3seCwmiZpkTv6U=,...</td>\n",
       "    </tr>\n",
       "  </tbody>\n",
       "</table>\n",
       "<p>10000 rows × 3 columns</p>\n",
       "</div>"
      ],
      "text/plain": [
       "      index    block                                         validators\n",
       "0         0  2000000  {er5nOfcT583OQP/QeLR/Wqpl+ttrr3seCwmiZpkTv6U=,...\n",
       "1         1  2000001  {er5nOfcT583OQP/QeLR/Wqpl+ttrr3seCwmiZpkTv6U=,...\n",
       "2         2  2000002  {er5nOfcT583OQP/QeLR/Wqpl+ttrr3seCwmiZpkTv6U=,...\n",
       "3         3  2000003  {er5nOfcT583OQP/QeLR/Wqpl+ttrr3seCwmiZpkTv6U=,...\n",
       "4         4  2000004  {er5nOfcT583OQP/QeLR/Wqpl+ttrr3seCwmiZpkTv6U=,...\n",
       "5         5  2000005  {er5nOfcT583OQP/QeLR/Wqpl+ttrr3seCwmiZpkTv6U=,...\n",
       "6         6  2000006  {er5nOfcT583OQP/QeLR/Wqpl+ttrr3seCwmiZpkTv6U=,...\n",
       "7         7  2000007  {er5nOfcT583OQP/QeLR/Wqpl+ttrr3seCwmiZpkTv6U=,...\n",
       "8         8  2000008  {er5nOfcT583OQP/QeLR/Wqpl+ttrr3seCwmiZpkTv6U=,...\n",
       "9         9  2000009  {er5nOfcT583OQP/QeLR/Wqpl+ttrr3seCwmiZpkTv6U=,...\n",
       "10       10  2000010  {er5nOfcT583OQP/QeLR/Wqpl+ttrr3seCwmiZpkTv6U=,...\n",
       "11       11  2000011  {er5nOfcT583OQP/QeLR/Wqpl+ttrr3seCwmiZpkTv6U=,...\n",
       "12       12  2000012  {er5nOfcT583OQP/QeLR/Wqpl+ttrr3seCwmiZpkTv6U=,...\n",
       "13       13  2000013  {er5nOfcT583OQP/QeLR/Wqpl+ttrr3seCwmiZpkTv6U=,...\n",
       "14       14  2000014  {er5nOfcT583OQP/QeLR/Wqpl+ttrr3seCwmiZpkTv6U=,...\n",
       "15       15  2000015  {er5nOfcT583OQP/QeLR/Wqpl+ttrr3seCwmiZpkTv6U=,...\n",
       "16       16  2000016  {er5nOfcT583OQP/QeLR/Wqpl+ttrr3seCwmiZpkTv6U=,...\n",
       "17       17  2000017  {er5nOfcT583OQP/QeLR/Wqpl+ttrr3seCwmiZpkTv6U=,...\n",
       "18       18  2000018  {er5nOfcT583OQP/QeLR/Wqpl+ttrr3seCwmiZpkTv6U=,...\n",
       "19       19  2000019  {er5nOfcT583OQP/QeLR/Wqpl+ttrr3seCwmiZpkTv6U=,...\n",
       "20       20  2000020  {er5nOfcT583OQP/QeLR/Wqpl+ttrr3seCwmiZpkTv6U=,...\n",
       "21       21  2000021  {er5nOfcT583OQP/QeLR/Wqpl+ttrr3seCwmiZpkTv6U=,...\n",
       "22       22  2000022  {er5nOfcT583OQP/QeLR/Wqpl+ttrr3seCwmiZpkTv6U=,...\n",
       "23       23  2000023  {er5nOfcT583OQP/QeLR/Wqpl+ttrr3seCwmiZpkTv6U=,...\n",
       "24       24  2000024  {er5nOfcT583OQP/QeLR/Wqpl+ttrr3seCwmiZpkTv6U=,...\n",
       "25       25  2000025  {er5nOfcT583OQP/QeLR/Wqpl+ttrr3seCwmiZpkTv6U=,...\n",
       "26       26  2000026  {er5nOfcT583OQP/QeLR/Wqpl+ttrr3seCwmiZpkTv6U=,...\n",
       "27       27  2000027  {er5nOfcT583OQP/QeLR/Wqpl+ttrr3seCwmiZpkTv6U=,...\n",
       "28       28  2000028  {er5nOfcT583OQP/QeLR/Wqpl+ttrr3seCwmiZpkTv6U=,...\n",
       "29       29  2000029  {er5nOfcT583OQP/QeLR/Wqpl+ttrr3seCwmiZpkTv6U=,...\n",
       "...     ...      ...                                                ...\n",
       "9970   9970  2009970  {er5nOfcT583OQP/QeLR/Wqpl+ttrr3seCwmiZpkTv6U=,...\n",
       "9971   9971  2009971  {er5nOfcT583OQP/QeLR/Wqpl+ttrr3seCwmiZpkTv6U=,...\n",
       "9972   9972  2009972  {er5nOfcT583OQP/QeLR/Wqpl+ttrr3seCwmiZpkTv6U=,...\n",
       "9973   9973  2009973  {er5nOfcT583OQP/QeLR/Wqpl+ttrr3seCwmiZpkTv6U=,...\n",
       "9974   9974  2009974  {er5nOfcT583OQP/QeLR/Wqpl+ttrr3seCwmiZpkTv6U=,...\n",
       "9975   9975  2009975  {er5nOfcT583OQP/QeLR/Wqpl+ttrr3seCwmiZpkTv6U=,...\n",
       "9976   9976  2009976  {er5nOfcT583OQP/QeLR/Wqpl+ttrr3seCwmiZpkTv6U=,...\n",
       "9977   9977  2009977  {er5nOfcT583OQP/QeLR/Wqpl+ttrr3seCwmiZpkTv6U=,...\n",
       "9978   9978  2009978  {er5nOfcT583OQP/QeLR/Wqpl+ttrr3seCwmiZpkTv6U=,...\n",
       "9979   9979  2009979  {er5nOfcT583OQP/QeLR/Wqpl+ttrr3seCwmiZpkTv6U=,...\n",
       "9980   9980  2009980  {er5nOfcT583OQP/QeLR/Wqpl+ttrr3seCwmiZpkTv6U=,...\n",
       "9981   9981  2009981  {er5nOfcT583OQP/QeLR/Wqpl+ttrr3seCwmiZpkTv6U=,...\n",
       "9982   9982  2009982  {er5nOfcT583OQP/QeLR/Wqpl+ttrr3seCwmiZpkTv6U=,...\n",
       "9983   9983  2009983  {er5nOfcT583OQP/QeLR/Wqpl+ttrr3seCwmiZpkTv6U=,...\n",
       "9984   9984  2009984  {er5nOfcT583OQP/QeLR/Wqpl+ttrr3seCwmiZpkTv6U=,...\n",
       "9985   9985  2009985  {er5nOfcT583OQP/QeLR/Wqpl+ttrr3seCwmiZpkTv6U=,...\n",
       "9986   9986  2009986  {er5nOfcT583OQP/QeLR/Wqpl+ttrr3seCwmiZpkTv6U=,...\n",
       "9987   9987  2009987  {er5nOfcT583OQP/QeLR/Wqpl+ttrr3seCwmiZpkTv6U=,...\n",
       "9988   9988  2009988  {er5nOfcT583OQP/QeLR/Wqpl+ttrr3seCwmiZpkTv6U=,...\n",
       "9989   9989  2009989  {er5nOfcT583OQP/QeLR/Wqpl+ttrr3seCwmiZpkTv6U=,...\n",
       "9990   9990  2009990  {er5nOfcT583OQP/QeLR/Wqpl+ttrr3seCwmiZpkTv6U=,...\n",
       "9991   9991  2009991  {er5nOfcT583OQP/QeLR/Wqpl+ttrr3seCwmiZpkTv6U=,...\n",
       "9992   9992  2009992  {er5nOfcT583OQP/QeLR/Wqpl+ttrr3seCwmiZpkTv6U=,...\n",
       "9993   9993  2009993  {er5nOfcT583OQP/QeLR/Wqpl+ttrr3seCwmiZpkTv6U=,...\n",
       "9994   9994  2009994  {er5nOfcT583OQP/QeLR/Wqpl+ttrr3seCwmiZpkTv6U=,...\n",
       "9995   9995  2009995  {er5nOfcT583OQP/QeLR/Wqpl+ttrr3seCwmiZpkTv6U=,...\n",
       "9996   9996  2009996  {er5nOfcT583OQP/QeLR/Wqpl+ttrr3seCwmiZpkTv6U=,...\n",
       "9997   9997  2009997  {er5nOfcT583OQP/QeLR/Wqpl+ttrr3seCwmiZpkTv6U=,...\n",
       "9998   9998  2009998  {er5nOfcT583OQP/QeLR/Wqpl+ttrr3seCwmiZpkTv6U=,...\n",
       "9999   9999  2009999  {er5nOfcT583OQP/QeLR/Wqpl+ttrr3seCwmiZpkTv6U=,...\n",
       "\n",
       "[10000 rows x 3 columns]"
      ]
     },
     "execution_count": 89,
     "metadata": {},
     "output_type": "execute_result"
    }
   ],
   "source": [
    "validators_df"
   ]
  },
  {
   "cell_type": "code",
   "execution_count": 10,
   "metadata": {},
   "outputs": [],
   "source": [
    "# validators_df[\"validators\"] = validators_df[\"validators\"].apply(lambda x: set(x))"
   ]
  },
  {
   "cell_type": "code",
   "execution_count": 90,
   "metadata": {},
   "outputs": [],
   "source": [
    "all_validators = set([v for v_list in validators_df[\"validators\"].tolist() for v in v_list])"
   ]
  },
  {
   "cell_type": "code",
   "execution_count": 91,
   "metadata": {},
   "outputs": [
    {
     "data": {
      "text/plain": [
       "{'1hAgw0k5iFwVNRDmoRG6ZkwGqxpKDJsBVNYKfkceRKg=',\n",
       " '6cD8SSQHOQBJOZcem3ycB+sW//DIAm+gScr7huJzOsk=',\n",
       " 'e4pHUC9NCi2oNTitTaZfFFRrvjg0AVXx8u1ts+0Pz6U=',\n",
       " 'er5nOfcT583OQP/QeLR/Wqpl+ttrr3seCwmiZpkTv6U=',\n",
       " 'hPZIQAs0nWDV6gSEurwZQ/6mb2tNYAPXKQbvu0GXx2Y=',\n",
       " 'pmJaelb4hFa0yPtQmpeYVmVu30/UDKFztkeTXnhst9g=',\n",
       " 'wTJYthVYdrIDOKZrFOoLLMmM6YJUYGVWZBK29m7jtS4=',\n",
       " 'yOl+PMVvwYSlhdjimjt7juK8jyZueh87NamQeDBvN1M='}"
      ]
     },
     "execution_count": 91,
     "metadata": {},
     "output_type": "execute_result"
    }
   ],
   "source": [
    "all_validators"
   ]
  },
  {
   "cell_type": "markdown",
   "metadata": {},
   "source": [
    "### Визуализация работы валидаторов"
   ]
  },
  {
   "cell_type": "code",
   "execution_count": 92,
   "metadata": {},
   "outputs": [
    {
     "data": {
      "text/plain": [
       "2009999"
      ]
     },
     "execution_count": 92,
     "metadata": {},
     "output_type": "execute_result"
    }
   ],
   "source": [
    "# Последний актуальный блок\n",
    "MAX_BLOCK = validators_df[\"block\"].max()\n",
    "MAX_BLOCK"
   ]
  },
  {
   "cell_type": "code",
   "execution_count": 93,
   "metadata": {},
   "outputs": [],
   "source": [
    "validators_df[\"rounded_block\"] = validators_df[\"block\"].round(-4)"
   ]
  },
  {
   "cell_type": "code",
   "execution_count": 94,
   "metadata": {},
   "outputs": [
    {
     "data": {
      "text/plain": [
       "2"
      ]
     },
     "execution_count": 94,
     "metadata": {},
     "output_type": "execute_result"
    }
   ],
   "source": [
    "validators_df[\"rounded_block\"].nunique()"
   ]
  },
  {
   "cell_type": "code",
   "execution_count": 95,
   "metadata": {},
   "outputs": [],
   "source": [
    "x = validators_df[\"rounded_block\"].unique().tolist()"
   ]
  },
  {
   "cell_type": "code",
   "execution_count": 96,
   "metadata": {},
   "outputs": [
    {
     "data": {
      "application/vnd.jupyter.widget-view+json": {
       "model_id": "ba58739846ff41e18ee48da902ca3186",
       "version_major": 2,
       "version_minor": 0
      },
      "text/plain": [
       "HBox(children=(IntProgress(value=0, max=8), HTML(value='')))"
      ]
     },
     "metadata": {},
     "output_type": "display_data"
    },
    {
     "name": "stdout",
     "output_type": "stream",
     "text": [
      "\n"
     ]
    }
   ],
   "source": [
    "all_y = []\n",
    "labels = []\n",
    "validator_traces = {}\n",
    "for validator in tqdm_notebook(all_validators):\n",
    "    validators_df[\"validator_mask\"] = validators_df[\"validators\"].apply(lambda x: validator in x).astype(float)\n",
    "    y = validators_df.groupby(\"rounded_block\")[\"validator_mask\"].sum().tolist()\n",
    "    all_y.append(y)\n",
    "    labels.append(validator)\n",
    "    validator_traces[validator] = y"
   ]
  },
  {
   "cell_type": "code",
   "execution_count": 97,
   "metadata": {},
   "outputs": [],
   "source": [
    "import matplotlib\n",
    "cmap = matplotlib.cm.get_cmap('jet')"
   ]
  },
  {
   "cell_type": "code",
   "execution_count": 98,
   "metadata": {},
   "outputs": [],
   "source": [
    "validator_colors = {\n",
    "    validator: \"rgba({})\".format(\", \".join([str(int(color * 255)) for color in cmap(np.sum(trace) / MAX_BLOCK)]))\n",
    "    for validator, trace in validator_traces.items()\n",
    "}"
   ]
  },
  {
   "cell_type": "code",
   "execution_count": 99,
   "metadata": {},
   "outputs": [
    {
     "data": {
      "application/vnd.plotly.v1+json": {
       "config": {
        "plotlyServerURL": "https://plot.ly"
       },
       "data": [
        {
         "groupnorm": "percent",
         "line": {
          "color": "rgba(0, 0, 132, 255)",
          "width": 0.5
         },
         "mode": "lines",
         "name": "er5nO...",
         "stackgroup": "one",
         "type": "scatter",
         "x": [
          2000000,
          2010000
         ],
         "y": [
          5001,
          4999
         ]
        },
        {
         "groupnorm": "percent",
         "line": {
          "color": "rgba(0, 0, 132, 255)",
          "width": 0.5
         },
         "mode": "lines",
         "name": "e4pHU...",
         "stackgroup": "one",
         "type": "scatter",
         "x": [
          2000000,
          2010000
         ],
         "y": [
          5001,
          4999
         ]
        },
        {
         "groupnorm": "percent",
         "line": {
          "color": "rgba(0, 0, 132, 255)",
          "width": 0.5
         },
         "mode": "lines",
         "name": "1hAgw...",
         "stackgroup": "one",
         "type": "scatter",
         "x": [
          2000000,
          2010000
         ],
         "y": [
          5001,
          4999
         ]
        },
        {
         "groupnorm": "percent",
         "line": {
          "color": "rgba(0, 0, 132, 255)",
          "width": 0.5
         },
         "mode": "lines",
         "name": "6cD8S...",
         "stackgroup": "one",
         "type": "scatter",
         "x": [
          2000000,
          2010000
         ],
         "y": [
          5001,
          4999
         ]
        },
        {
         "groupnorm": "percent",
         "line": {
          "color": "rgba(0, 0, 132, 255)",
          "width": 0.5
         },
         "mode": "lines",
         "name": "hPZIQ...",
         "stackgroup": "one",
         "type": "scatter",
         "x": [
          2000000,
          2010000
         ],
         "y": [
          5001,
          4999
         ]
        },
        {
         "groupnorm": "percent",
         "line": {
          "color": "rgba(0, 0, 132, 255)",
          "width": 0.5
         },
         "mode": "lines",
         "name": "yOl+P...",
         "stackgroup": "one",
         "type": "scatter",
         "x": [
          2000000,
          2010000
         ],
         "y": [
          5001,
          4999
         ]
        },
        {
         "groupnorm": "percent",
         "line": {
          "color": "rgba(0, 0, 132, 255)",
          "width": 0.5
         },
         "mode": "lines",
         "name": "wTJYt...",
         "stackgroup": "one",
         "type": "scatter",
         "x": [
          2000000,
          2010000
         ],
         "y": [
          5001,
          4999
         ]
        },
        {
         "groupnorm": "percent",
         "line": {
          "color": "rgba(0, 0, 132, 255)",
          "width": 0.5
         },
         "mode": "lines",
         "name": "pmJae...",
         "stackgroup": "one",
         "type": "scatter",
         "x": [
          2000000,
          2010000
         ],
         "y": [
          5001,
          4999
         ]
        }
       ],
       "layout": {
        "showlegend": true,
        "template": {
         "data": {
          "bar": [
           {
            "error_x": {
             "color": "#2a3f5f"
            },
            "error_y": {
             "color": "#2a3f5f"
            },
            "marker": {
             "line": {
              "color": "#E5ECF6",
              "width": 0.5
             }
            },
            "type": "bar"
           }
          ],
          "barpolar": [
           {
            "marker": {
             "line": {
              "color": "#E5ECF6",
              "width": 0.5
             }
            },
            "type": "barpolar"
           }
          ],
          "carpet": [
           {
            "aaxis": {
             "endlinecolor": "#2a3f5f",
             "gridcolor": "white",
             "linecolor": "white",
             "minorgridcolor": "white",
             "startlinecolor": "#2a3f5f"
            },
            "baxis": {
             "endlinecolor": "#2a3f5f",
             "gridcolor": "white",
             "linecolor": "white",
             "minorgridcolor": "white",
             "startlinecolor": "#2a3f5f"
            },
            "type": "carpet"
           }
          ],
          "choropleth": [
           {
            "colorbar": {
             "outlinewidth": 0,
             "ticks": ""
            },
            "type": "choropleth"
           }
          ],
          "contour": [
           {
            "colorbar": {
             "outlinewidth": 0,
             "ticks": ""
            },
            "colorscale": [
             [
              0,
              "#0d0887"
             ],
             [
              0.1111111111111111,
              "#46039f"
             ],
             [
              0.2222222222222222,
              "#7201a8"
             ],
             [
              0.3333333333333333,
              "#9c179e"
             ],
             [
              0.4444444444444444,
              "#bd3786"
             ],
             [
              0.5555555555555556,
              "#d8576b"
             ],
             [
              0.6666666666666666,
              "#ed7953"
             ],
             [
              0.7777777777777778,
              "#fb9f3a"
             ],
             [
              0.8888888888888888,
              "#fdca26"
             ],
             [
              1,
              "#f0f921"
             ]
            ],
            "type": "contour"
           }
          ],
          "contourcarpet": [
           {
            "colorbar": {
             "outlinewidth": 0,
             "ticks": ""
            },
            "type": "contourcarpet"
           }
          ],
          "heatmap": [
           {
            "colorbar": {
             "outlinewidth": 0,
             "ticks": ""
            },
            "colorscale": [
             [
              0,
              "#0d0887"
             ],
             [
              0.1111111111111111,
              "#46039f"
             ],
             [
              0.2222222222222222,
              "#7201a8"
             ],
             [
              0.3333333333333333,
              "#9c179e"
             ],
             [
              0.4444444444444444,
              "#bd3786"
             ],
             [
              0.5555555555555556,
              "#d8576b"
             ],
             [
              0.6666666666666666,
              "#ed7953"
             ],
             [
              0.7777777777777778,
              "#fb9f3a"
             ],
             [
              0.8888888888888888,
              "#fdca26"
             ],
             [
              1,
              "#f0f921"
             ]
            ],
            "type": "heatmap"
           }
          ],
          "heatmapgl": [
           {
            "colorbar": {
             "outlinewidth": 0,
             "ticks": ""
            },
            "colorscale": [
             [
              0,
              "#0d0887"
             ],
             [
              0.1111111111111111,
              "#46039f"
             ],
             [
              0.2222222222222222,
              "#7201a8"
             ],
             [
              0.3333333333333333,
              "#9c179e"
             ],
             [
              0.4444444444444444,
              "#bd3786"
             ],
             [
              0.5555555555555556,
              "#d8576b"
             ],
             [
              0.6666666666666666,
              "#ed7953"
             ],
             [
              0.7777777777777778,
              "#fb9f3a"
             ],
             [
              0.8888888888888888,
              "#fdca26"
             ],
             [
              1,
              "#f0f921"
             ]
            ],
            "type": "heatmapgl"
           }
          ],
          "histogram": [
           {
            "marker": {
             "colorbar": {
              "outlinewidth": 0,
              "ticks": ""
             }
            },
            "type": "histogram"
           }
          ],
          "histogram2d": [
           {
            "colorbar": {
             "outlinewidth": 0,
             "ticks": ""
            },
            "colorscale": [
             [
              0,
              "#0d0887"
             ],
             [
              0.1111111111111111,
              "#46039f"
             ],
             [
              0.2222222222222222,
              "#7201a8"
             ],
             [
              0.3333333333333333,
              "#9c179e"
             ],
             [
              0.4444444444444444,
              "#bd3786"
             ],
             [
              0.5555555555555556,
              "#d8576b"
             ],
             [
              0.6666666666666666,
              "#ed7953"
             ],
             [
              0.7777777777777778,
              "#fb9f3a"
             ],
             [
              0.8888888888888888,
              "#fdca26"
             ],
             [
              1,
              "#f0f921"
             ]
            ],
            "type": "histogram2d"
           }
          ],
          "histogram2dcontour": [
           {
            "colorbar": {
             "outlinewidth": 0,
             "ticks": ""
            },
            "colorscale": [
             [
              0,
              "#0d0887"
             ],
             [
              0.1111111111111111,
              "#46039f"
             ],
             [
              0.2222222222222222,
              "#7201a8"
             ],
             [
              0.3333333333333333,
              "#9c179e"
             ],
             [
              0.4444444444444444,
              "#bd3786"
             ],
             [
              0.5555555555555556,
              "#d8576b"
             ],
             [
              0.6666666666666666,
              "#ed7953"
             ],
             [
              0.7777777777777778,
              "#fb9f3a"
             ],
             [
              0.8888888888888888,
              "#fdca26"
             ],
             [
              1,
              "#f0f921"
             ]
            ],
            "type": "histogram2dcontour"
           }
          ],
          "mesh3d": [
           {
            "colorbar": {
             "outlinewidth": 0,
             "ticks": ""
            },
            "type": "mesh3d"
           }
          ],
          "parcoords": [
           {
            "line": {
             "colorbar": {
              "outlinewidth": 0,
              "ticks": ""
             }
            },
            "type": "parcoords"
           }
          ],
          "scatter": [
           {
            "marker": {
             "colorbar": {
              "outlinewidth": 0,
              "ticks": ""
             }
            },
            "type": "scatter"
           }
          ],
          "scatter3d": [
           {
            "line": {
             "colorbar": {
              "outlinewidth": 0,
              "ticks": ""
             }
            },
            "marker": {
             "colorbar": {
              "outlinewidth": 0,
              "ticks": ""
             }
            },
            "type": "scatter3d"
           }
          ],
          "scattercarpet": [
           {
            "marker": {
             "colorbar": {
              "outlinewidth": 0,
              "ticks": ""
             }
            },
            "type": "scattercarpet"
           }
          ],
          "scattergeo": [
           {
            "marker": {
             "colorbar": {
              "outlinewidth": 0,
              "ticks": ""
             }
            },
            "type": "scattergeo"
           }
          ],
          "scattergl": [
           {
            "marker": {
             "colorbar": {
              "outlinewidth": 0,
              "ticks": ""
             }
            },
            "type": "scattergl"
           }
          ],
          "scattermapbox": [
           {
            "marker": {
             "colorbar": {
              "outlinewidth": 0,
              "ticks": ""
             }
            },
            "type": "scattermapbox"
           }
          ],
          "scatterpolar": [
           {
            "marker": {
             "colorbar": {
              "outlinewidth": 0,
              "ticks": ""
             }
            },
            "type": "scatterpolar"
           }
          ],
          "scatterpolargl": [
           {
            "marker": {
             "colorbar": {
              "outlinewidth": 0,
              "ticks": ""
             }
            },
            "type": "scatterpolargl"
           }
          ],
          "scatterternary": [
           {
            "marker": {
             "colorbar": {
              "outlinewidth": 0,
              "ticks": ""
             }
            },
            "type": "scatterternary"
           }
          ],
          "surface": [
           {
            "colorbar": {
             "outlinewidth": 0,
             "ticks": ""
            },
            "colorscale": [
             [
              0,
              "#0d0887"
             ],
             [
              0.1111111111111111,
              "#46039f"
             ],
             [
              0.2222222222222222,
              "#7201a8"
             ],
             [
              0.3333333333333333,
              "#9c179e"
             ],
             [
              0.4444444444444444,
              "#bd3786"
             ],
             [
              0.5555555555555556,
              "#d8576b"
             ],
             [
              0.6666666666666666,
              "#ed7953"
             ],
             [
              0.7777777777777778,
              "#fb9f3a"
             ],
             [
              0.8888888888888888,
              "#fdca26"
             ],
             [
              1,
              "#f0f921"
             ]
            ],
            "type": "surface"
           }
          ],
          "table": [
           {
            "cells": {
             "fill": {
              "color": "#EBF0F8"
             },
             "line": {
              "color": "white"
             }
            },
            "header": {
             "fill": {
              "color": "#C8D4E3"
             },
             "line": {
              "color": "white"
             }
            },
            "type": "table"
           }
          ]
         },
         "layout": {
          "annotationdefaults": {
           "arrowcolor": "#2a3f5f",
           "arrowhead": 0,
           "arrowwidth": 1
          },
          "colorscale": {
           "diverging": [
            [
             0,
             "#8e0152"
            ],
            [
             0.1,
             "#c51b7d"
            ],
            [
             0.2,
             "#de77ae"
            ],
            [
             0.3,
             "#f1b6da"
            ],
            [
             0.4,
             "#fde0ef"
            ],
            [
             0.5,
             "#f7f7f7"
            ],
            [
             0.6,
             "#e6f5d0"
            ],
            [
             0.7,
             "#b8e186"
            ],
            [
             0.8,
             "#7fbc41"
            ],
            [
             0.9,
             "#4d9221"
            ],
            [
             1,
             "#276419"
            ]
           ],
           "sequential": [
            [
             0,
             "#0d0887"
            ],
            [
             0.1111111111111111,
             "#46039f"
            ],
            [
             0.2222222222222222,
             "#7201a8"
            ],
            [
             0.3333333333333333,
             "#9c179e"
            ],
            [
             0.4444444444444444,
             "#bd3786"
            ],
            [
             0.5555555555555556,
             "#d8576b"
            ],
            [
             0.6666666666666666,
             "#ed7953"
            ],
            [
             0.7777777777777778,
             "#fb9f3a"
            ],
            [
             0.8888888888888888,
             "#fdca26"
            ],
            [
             1,
             "#f0f921"
            ]
           ],
           "sequentialminus": [
            [
             0,
             "#0d0887"
            ],
            [
             0.1111111111111111,
             "#46039f"
            ],
            [
             0.2222222222222222,
             "#7201a8"
            ],
            [
             0.3333333333333333,
             "#9c179e"
            ],
            [
             0.4444444444444444,
             "#bd3786"
            ],
            [
             0.5555555555555556,
             "#d8576b"
            ],
            [
             0.6666666666666666,
             "#ed7953"
            ],
            [
             0.7777777777777778,
             "#fb9f3a"
            ],
            [
             0.8888888888888888,
             "#fdca26"
            ],
            [
             1,
             "#f0f921"
            ]
           ]
          },
          "colorway": [
           "#636efa",
           "#EF553B",
           "#00cc96",
           "#ab63fa",
           "#FFA15A",
           "#19d3f3",
           "#FF6692",
           "#B6E880",
           "#FF97FF",
           "#FECB52"
          ],
          "font": {
           "color": "#2a3f5f"
          },
          "geo": {
           "bgcolor": "white",
           "lakecolor": "white",
           "landcolor": "#E5ECF6",
           "showlakes": true,
           "showland": true,
           "subunitcolor": "white"
          },
          "hoverlabel": {
           "align": "left"
          },
          "hovermode": "closest",
          "mapbox": {
           "style": "light"
          },
          "paper_bgcolor": "white",
          "plot_bgcolor": "#E5ECF6",
          "polar": {
           "angularaxis": {
            "gridcolor": "white",
            "linecolor": "white",
            "ticks": ""
           },
           "bgcolor": "#E5ECF6",
           "radialaxis": {
            "gridcolor": "white",
            "linecolor": "white",
            "ticks": ""
           }
          },
          "scene": {
           "xaxis": {
            "backgroundcolor": "#E5ECF6",
            "gridcolor": "white",
            "gridwidth": 2,
            "linecolor": "white",
            "showbackground": true,
            "ticks": "",
            "zerolinecolor": "white"
           },
           "yaxis": {
            "backgroundcolor": "#E5ECF6",
            "gridcolor": "white",
            "gridwidth": 2,
            "linecolor": "white",
            "showbackground": true,
            "ticks": "",
            "zerolinecolor": "white"
           },
           "zaxis": {
            "backgroundcolor": "#E5ECF6",
            "gridcolor": "white",
            "gridwidth": 2,
            "linecolor": "white",
            "showbackground": true,
            "ticks": "",
            "zerolinecolor": "white"
           }
          },
          "shapedefaults": {
           "line": {
            "color": "#2a3f5f"
           }
          },
          "ternary": {
           "aaxis": {
            "gridcolor": "white",
            "linecolor": "white",
            "ticks": ""
           },
           "baxis": {
            "gridcolor": "white",
            "linecolor": "white",
            "ticks": ""
           },
           "bgcolor": "#E5ECF6",
           "caxis": {
            "gridcolor": "white",
            "linecolor": "white",
            "ticks": ""
           }
          },
          "title": {
           "x": 0.05
          },
          "xaxis": {
           "automargin": true,
           "gridcolor": "white",
           "linecolor": "white",
           "ticks": "",
           "zerolinecolor": "white",
           "zerolinewidth": 2
          },
          "yaxis": {
           "automargin": true,
           "gridcolor": "white",
           "linecolor": "white",
           "ticks": "",
           "zerolinecolor": "white",
           "zerolinewidth": 2
          }
         }
        },
        "xaxis": {
         "type": "linear"
        },
        "yaxis": {
         "range": [
          1,
          100
         ],
         "ticksuffix": "%",
         "type": "linear"
        }
       }
      },
      "text/html": [
       "<div>\n",
       "        \n",
       "        \n",
       "            <div id=\"0c09d019-e3db-4492-b606-bb61b73cbdfa\" class=\"plotly-graph-div\" style=\"height:525px; width:100%;\"></div>\n",
       "            <script type=\"text/javascript\">\n",
       "                require([\"plotly\"], function(Plotly) {\n",
       "                    window.PLOTLYENV=window.PLOTLYENV || {};\n",
       "                    \n",
       "                if (document.getElementById(\"0c09d019-e3db-4492-b606-bb61b73cbdfa\")) {\n",
       "                    Plotly.newPlot(\n",
       "                        '0c09d019-e3db-4492-b606-bb61b73cbdfa',\n",
       "                        [{\"groupnorm\": \"percent\", \"line\": {\"color\": \"rgba(0, 0, 132, 255)\", \"width\": 0.5}, \"mode\": \"lines\", \"name\": \"er5nO...\", \"stackgroup\": \"one\", \"type\": \"scatter\", \"x\": [2000000, 2010000], \"y\": [5001.0, 4999.0]}, {\"groupnorm\": \"percent\", \"line\": {\"color\": \"rgba(0, 0, 132, 255)\", \"width\": 0.5}, \"mode\": \"lines\", \"name\": \"e4pHU...\", \"stackgroup\": \"one\", \"type\": \"scatter\", \"x\": [2000000, 2010000], \"y\": [5001.0, 4999.0]}, {\"groupnorm\": \"percent\", \"line\": {\"color\": \"rgba(0, 0, 132, 255)\", \"width\": 0.5}, \"mode\": \"lines\", \"name\": \"1hAgw...\", \"stackgroup\": \"one\", \"type\": \"scatter\", \"x\": [2000000, 2010000], \"y\": [5001.0, 4999.0]}, {\"groupnorm\": \"percent\", \"line\": {\"color\": \"rgba(0, 0, 132, 255)\", \"width\": 0.5}, \"mode\": \"lines\", \"name\": \"6cD8S...\", \"stackgroup\": \"one\", \"type\": \"scatter\", \"x\": [2000000, 2010000], \"y\": [5001.0, 4999.0]}, {\"groupnorm\": \"percent\", \"line\": {\"color\": \"rgba(0, 0, 132, 255)\", \"width\": 0.5}, \"mode\": \"lines\", \"name\": \"hPZIQ...\", \"stackgroup\": \"one\", \"type\": \"scatter\", \"x\": [2000000, 2010000], \"y\": [5001.0, 4999.0]}, {\"groupnorm\": \"percent\", \"line\": {\"color\": \"rgba(0, 0, 132, 255)\", \"width\": 0.5}, \"mode\": \"lines\", \"name\": \"yOl+P...\", \"stackgroup\": \"one\", \"type\": \"scatter\", \"x\": [2000000, 2010000], \"y\": [5001.0, 4999.0]}, {\"groupnorm\": \"percent\", \"line\": {\"color\": \"rgba(0, 0, 132, 255)\", \"width\": 0.5}, \"mode\": \"lines\", \"name\": \"wTJYt...\", \"stackgroup\": \"one\", \"type\": \"scatter\", \"x\": [2000000, 2010000], \"y\": [5001.0, 4999.0]}, {\"groupnorm\": \"percent\", \"line\": {\"color\": \"rgba(0, 0, 132, 255)\", \"width\": 0.5}, \"mode\": \"lines\", \"name\": \"pmJae...\", \"stackgroup\": \"one\", \"type\": \"scatter\", \"x\": [2000000, 2010000], \"y\": [5001.0, 4999.0]}],\n",
       "                        {\"showlegend\": true, \"template\": {\"data\": {\"bar\": [{\"error_x\": {\"color\": \"#2a3f5f\"}, \"error_y\": {\"color\": \"#2a3f5f\"}, \"marker\": {\"line\": {\"color\": \"#E5ECF6\", \"width\": 0.5}}, \"type\": \"bar\"}], \"barpolar\": [{\"marker\": {\"line\": {\"color\": \"#E5ECF6\", \"width\": 0.5}}, \"type\": \"barpolar\"}], \"carpet\": [{\"aaxis\": {\"endlinecolor\": \"#2a3f5f\", \"gridcolor\": \"white\", \"linecolor\": \"white\", \"minorgridcolor\": \"white\", \"startlinecolor\": \"#2a3f5f\"}, \"baxis\": {\"endlinecolor\": \"#2a3f5f\", \"gridcolor\": \"white\", \"linecolor\": \"white\", \"minorgridcolor\": \"white\", \"startlinecolor\": \"#2a3f5f\"}, \"type\": \"carpet\"}], \"choropleth\": [{\"colorbar\": {\"outlinewidth\": 0, \"ticks\": \"\"}, \"type\": \"choropleth\"}], \"contour\": [{\"colorbar\": {\"outlinewidth\": 0, \"ticks\": \"\"}, \"colorscale\": [[0.0, \"#0d0887\"], [0.1111111111111111, \"#46039f\"], [0.2222222222222222, \"#7201a8\"], [0.3333333333333333, \"#9c179e\"], [0.4444444444444444, \"#bd3786\"], [0.5555555555555556, \"#d8576b\"], [0.6666666666666666, \"#ed7953\"], [0.7777777777777778, \"#fb9f3a\"], [0.8888888888888888, \"#fdca26\"], [1.0, \"#f0f921\"]], \"type\": \"contour\"}], \"contourcarpet\": [{\"colorbar\": {\"outlinewidth\": 0, \"ticks\": \"\"}, \"type\": \"contourcarpet\"}], \"heatmap\": [{\"colorbar\": {\"outlinewidth\": 0, \"ticks\": \"\"}, \"colorscale\": [[0.0, \"#0d0887\"], [0.1111111111111111, \"#46039f\"], [0.2222222222222222, \"#7201a8\"], [0.3333333333333333, \"#9c179e\"], [0.4444444444444444, \"#bd3786\"], [0.5555555555555556, \"#d8576b\"], [0.6666666666666666, \"#ed7953\"], [0.7777777777777778, \"#fb9f3a\"], [0.8888888888888888, \"#fdca26\"], [1.0, \"#f0f921\"]], \"type\": \"heatmap\"}], \"heatmapgl\": [{\"colorbar\": {\"outlinewidth\": 0, \"ticks\": \"\"}, \"colorscale\": [[0.0, \"#0d0887\"], [0.1111111111111111, \"#46039f\"], [0.2222222222222222, \"#7201a8\"], [0.3333333333333333, \"#9c179e\"], [0.4444444444444444, \"#bd3786\"], [0.5555555555555556, \"#d8576b\"], [0.6666666666666666, \"#ed7953\"], [0.7777777777777778, \"#fb9f3a\"], [0.8888888888888888, \"#fdca26\"], [1.0, \"#f0f921\"]], \"type\": \"heatmapgl\"}], \"histogram\": [{\"marker\": {\"colorbar\": {\"outlinewidth\": 0, \"ticks\": \"\"}}, \"type\": \"histogram\"}], \"histogram2d\": [{\"colorbar\": {\"outlinewidth\": 0, \"ticks\": \"\"}, \"colorscale\": [[0.0, \"#0d0887\"], [0.1111111111111111, \"#46039f\"], [0.2222222222222222, \"#7201a8\"], [0.3333333333333333, \"#9c179e\"], [0.4444444444444444, \"#bd3786\"], [0.5555555555555556, \"#d8576b\"], [0.6666666666666666, \"#ed7953\"], [0.7777777777777778, \"#fb9f3a\"], [0.8888888888888888, \"#fdca26\"], [1.0, \"#f0f921\"]], \"type\": \"histogram2d\"}], \"histogram2dcontour\": [{\"colorbar\": {\"outlinewidth\": 0, \"ticks\": \"\"}, \"colorscale\": [[0.0, \"#0d0887\"], [0.1111111111111111, \"#46039f\"], [0.2222222222222222, \"#7201a8\"], [0.3333333333333333, \"#9c179e\"], [0.4444444444444444, \"#bd3786\"], [0.5555555555555556, \"#d8576b\"], [0.6666666666666666, \"#ed7953\"], [0.7777777777777778, \"#fb9f3a\"], [0.8888888888888888, \"#fdca26\"], [1.0, \"#f0f921\"]], \"type\": \"histogram2dcontour\"}], \"mesh3d\": [{\"colorbar\": {\"outlinewidth\": 0, \"ticks\": \"\"}, \"type\": \"mesh3d\"}], \"parcoords\": [{\"line\": {\"colorbar\": {\"outlinewidth\": 0, \"ticks\": \"\"}}, \"type\": \"parcoords\"}], \"scatter\": [{\"marker\": {\"colorbar\": {\"outlinewidth\": 0, \"ticks\": \"\"}}, \"type\": \"scatter\"}], \"scatter3d\": [{\"line\": {\"colorbar\": {\"outlinewidth\": 0, \"ticks\": \"\"}}, \"marker\": {\"colorbar\": {\"outlinewidth\": 0, \"ticks\": \"\"}}, \"type\": \"scatter3d\"}], \"scattercarpet\": [{\"marker\": {\"colorbar\": {\"outlinewidth\": 0, \"ticks\": \"\"}}, \"type\": \"scattercarpet\"}], \"scattergeo\": [{\"marker\": {\"colorbar\": {\"outlinewidth\": 0, \"ticks\": \"\"}}, \"type\": \"scattergeo\"}], \"scattergl\": [{\"marker\": {\"colorbar\": {\"outlinewidth\": 0, \"ticks\": \"\"}}, \"type\": \"scattergl\"}], \"scattermapbox\": [{\"marker\": {\"colorbar\": {\"outlinewidth\": 0, \"ticks\": \"\"}}, \"type\": \"scattermapbox\"}], \"scatterpolar\": [{\"marker\": {\"colorbar\": {\"outlinewidth\": 0, \"ticks\": \"\"}}, \"type\": \"scatterpolar\"}], \"scatterpolargl\": [{\"marker\": {\"colorbar\": {\"outlinewidth\": 0, \"ticks\": \"\"}}, \"type\": \"scatterpolargl\"}], \"scatterternary\": [{\"marker\": {\"colorbar\": {\"outlinewidth\": 0, \"ticks\": \"\"}}, \"type\": \"scatterternary\"}], \"surface\": [{\"colorbar\": {\"outlinewidth\": 0, \"ticks\": \"\"}, \"colorscale\": [[0.0, \"#0d0887\"], [0.1111111111111111, \"#46039f\"], [0.2222222222222222, \"#7201a8\"], [0.3333333333333333, \"#9c179e\"], [0.4444444444444444, \"#bd3786\"], [0.5555555555555556, \"#d8576b\"], [0.6666666666666666, \"#ed7953\"], [0.7777777777777778, \"#fb9f3a\"], [0.8888888888888888, \"#fdca26\"], [1.0, \"#f0f921\"]], \"type\": \"surface\"}], \"table\": [{\"cells\": {\"fill\": {\"color\": \"#EBF0F8\"}, \"line\": {\"color\": \"white\"}}, \"header\": {\"fill\": {\"color\": \"#C8D4E3\"}, \"line\": {\"color\": \"white\"}}, \"type\": \"table\"}]}, \"layout\": {\"annotationdefaults\": {\"arrowcolor\": \"#2a3f5f\", \"arrowhead\": 0, \"arrowwidth\": 1}, \"colorscale\": {\"diverging\": [[0, \"#8e0152\"], [0.1, \"#c51b7d\"], [0.2, \"#de77ae\"], [0.3, \"#f1b6da\"], [0.4, \"#fde0ef\"], [0.5, \"#f7f7f7\"], [0.6, \"#e6f5d0\"], [0.7, \"#b8e186\"], [0.8, \"#7fbc41\"], [0.9, \"#4d9221\"], [1, \"#276419\"]], \"sequential\": [[0.0, \"#0d0887\"], [0.1111111111111111, \"#46039f\"], [0.2222222222222222, \"#7201a8\"], [0.3333333333333333, \"#9c179e\"], [0.4444444444444444, \"#bd3786\"], [0.5555555555555556, \"#d8576b\"], [0.6666666666666666, \"#ed7953\"], [0.7777777777777778, \"#fb9f3a\"], [0.8888888888888888, \"#fdca26\"], [1.0, \"#f0f921\"]], \"sequentialminus\": [[0.0, \"#0d0887\"], [0.1111111111111111, \"#46039f\"], [0.2222222222222222, \"#7201a8\"], [0.3333333333333333, \"#9c179e\"], [0.4444444444444444, \"#bd3786\"], [0.5555555555555556, \"#d8576b\"], [0.6666666666666666, \"#ed7953\"], [0.7777777777777778, \"#fb9f3a\"], [0.8888888888888888, \"#fdca26\"], [1.0, \"#f0f921\"]]}, \"colorway\": [\"#636efa\", \"#EF553B\", \"#00cc96\", \"#ab63fa\", \"#FFA15A\", \"#19d3f3\", \"#FF6692\", \"#B6E880\", \"#FF97FF\", \"#FECB52\"], \"font\": {\"color\": \"#2a3f5f\"}, \"geo\": {\"bgcolor\": \"white\", \"lakecolor\": \"white\", \"landcolor\": \"#E5ECF6\", \"showlakes\": true, \"showland\": true, \"subunitcolor\": \"white\"}, \"hoverlabel\": {\"align\": \"left\"}, \"hovermode\": \"closest\", \"mapbox\": {\"style\": \"light\"}, \"paper_bgcolor\": \"white\", \"plot_bgcolor\": \"#E5ECF6\", \"polar\": {\"angularaxis\": {\"gridcolor\": \"white\", \"linecolor\": \"white\", \"ticks\": \"\"}, \"bgcolor\": \"#E5ECF6\", \"radialaxis\": {\"gridcolor\": \"white\", \"linecolor\": \"white\", \"ticks\": \"\"}}, \"scene\": {\"xaxis\": {\"backgroundcolor\": \"#E5ECF6\", \"gridcolor\": \"white\", \"gridwidth\": 2, \"linecolor\": \"white\", \"showbackground\": true, \"ticks\": \"\", \"zerolinecolor\": \"white\"}, \"yaxis\": {\"backgroundcolor\": \"#E5ECF6\", \"gridcolor\": \"white\", \"gridwidth\": 2, \"linecolor\": \"white\", \"showbackground\": true, \"ticks\": \"\", \"zerolinecolor\": \"white\"}, \"zaxis\": {\"backgroundcolor\": \"#E5ECF6\", \"gridcolor\": \"white\", \"gridwidth\": 2, \"linecolor\": \"white\", \"showbackground\": true, \"ticks\": \"\", \"zerolinecolor\": \"white\"}}, \"shapedefaults\": {\"line\": {\"color\": \"#2a3f5f\"}}, \"ternary\": {\"aaxis\": {\"gridcolor\": \"white\", \"linecolor\": \"white\", \"ticks\": \"\"}, \"baxis\": {\"gridcolor\": \"white\", \"linecolor\": \"white\", \"ticks\": \"\"}, \"bgcolor\": \"#E5ECF6\", \"caxis\": {\"gridcolor\": \"white\", \"linecolor\": \"white\", \"ticks\": \"\"}}, \"title\": {\"x\": 0.05}, \"xaxis\": {\"automargin\": true, \"gridcolor\": \"white\", \"linecolor\": \"white\", \"ticks\": \"\", \"zerolinecolor\": \"white\", \"zerolinewidth\": 2}, \"yaxis\": {\"automargin\": true, \"gridcolor\": \"white\", \"linecolor\": \"white\", \"ticks\": \"\", \"zerolinecolor\": \"white\", \"zerolinewidth\": 2}}}, \"xaxis\": {\"type\": \"linear\"}, \"yaxis\": {\"range\": [1, 100], \"ticksuffix\": \"%\", \"type\": \"linear\"}},\n",
       "                        {\"responsive\": true}\n",
       "                    ).then(function(){\n",
       "                            \n",
       "var gd = document.getElementById('0c09d019-e3db-4492-b606-bb61b73cbdfa');\n",
       "var x = new MutationObserver(function (mutations, observer) {{\n",
       "        var display = window.getComputedStyle(gd).display;\n",
       "        if (!display || display === 'none') {{\n",
       "            console.log([gd, 'removed!']);\n",
       "            Plotly.purge(gd);\n",
       "            observer.disconnect();\n",
       "        }}\n",
       "}});\n",
       "\n",
       "// Listen for the removal of the full notebook cells\n",
       "var notebookContainer = gd.closest('#notebook-container');\n",
       "if (notebookContainer) {{\n",
       "    x.observe(notebookContainer, {childList: true});\n",
       "}}\n",
       "\n",
       "// Listen for the clearing of the current output cell\n",
       "var outputEl = gd.closest('.output');\n",
       "if (outputEl) {{\n",
       "    x.observe(outputEl, {childList: true});\n",
       "}}\n",
       "\n",
       "                        })\n",
       "                };\n",
       "                });\n",
       "            </script>\n",
       "        </div>"
      ]
     },
     "metadata": {},
     "output_type": "display_data"
    }
   ],
   "source": [
    "fig = go.Figure()\n",
    "\n",
    "for validator, y in validator_traces.items():\n",
    "    fig.add_trace(go.Scatter(\n",
    "        x=x, y=y,\n",
    "        mode='lines',\n",
    "        name=validator[0:5] + \"...\",\n",
    "        line=dict(width=0.5, color=validator_colors[validator]),\n",
    "        stackgroup='one',\n",
    "        groupnorm='percent'\n",
    "    ))\n",
    "\n",
    "fig.update_layout(\n",
    "    showlegend=True,\n",
    "    xaxis_type='linear',\n",
    "    yaxis=dict(\n",
    "        type='linear',\n",
    "        range=[1, 100],\n",
    "        ticksuffix='%'))\n",
    "\n",
    "fig.show()"
   ]
  },
  {
   "cell_type": "markdown",
   "metadata": {},
   "source": [
    "### Расчет вознаграждения для каждого валидатора"
   ]
  },
  {
   "cell_type": "code",
   "execution_count": 100,
   "metadata": {},
   "outputs": [],
   "source": [
    "# Количество токенов, участвующее в раздаче\n",
    "AMOUNT_OF_TOKENS = 10000000"
   ]
  },
  {
   "cell_type": "code",
   "execution_count": 101,
   "metadata": {},
   "outputs": [],
   "source": [
    "# Коэффициенты прямой для вычисления вознаграждения\n",
    "K = 1\n",
    "B = 0"
   ]
  },
  {
   "cell_type": "markdown",
   "metadata": {},
   "source": [
    "Вопрос: как влияют эти коэффициенты на вознаграждение валидаторов?"
   ]
  },
  {
   "cell_type": "code",
   "execution_count": 102,
   "metadata": {},
   "outputs": [],
   "source": [
    "def linear(block):\n",
    "    return K * block + B"
   ]
  },
  {
   "cell_type": "code",
   "execution_count": 103,
   "metadata": {},
   "outputs": [],
   "source": [
    "validators_df[\"total_reward_part\"] = validators_df[\"block\"].apply(lambda x: linear(x)) "
   ]
  },
  {
   "cell_type": "code",
   "execution_count": 104,
   "metadata": {},
   "outputs": [],
   "source": [
    "validators_df[\"total_validators\"] = validators_df[\"validators\"].apply(lambda x: len(x))"
   ]
  },
  {
   "cell_type": "code",
   "execution_count": 105,
   "metadata": {},
   "outputs": [],
   "source": [
    "validators_df[\"validator_reward_part\"] = validators_df[\"total_reward_part\"] / validators_df[\"total_validators\"] / validators_df[\"total_reward_part\"].sum()"
   ]
  },
  {
   "cell_type": "code",
   "execution_count": 106,
   "metadata": {},
   "outputs": [
    {
     "data": {
      "application/vnd.jupyter.widget-view+json": {
       "model_id": "6bdc599c22c4462db0474db8a08dd424",
       "version_major": 2,
       "version_minor": 0
      },
      "text/plain": [
       "HBox(children=(IntProgress(value=0, max=8), HTML(value='')))"
      ]
     },
     "metadata": {},
     "output_type": "display_data"
    },
    {
     "name": "stdout",
     "output_type": "stream",
     "text": [
      "\n"
     ]
    }
   ],
   "source": [
    "rewards = {}\n",
    "\n",
    "for validator in tqdm_notebook(all_validators):\n",
    "    validator_reward = validators_df[validators_df[\"validators\"].apply(lambda x: validator in x)][\"validator_reward_part\"].sum()\n",
    "    rewards[validator] = validator_reward * AMOUNT_OF_TOKENS"
   ]
  },
  {
   "cell_type": "code",
   "execution_count": 107,
   "metadata": {},
   "outputs": [],
   "source": [
    "balances_df = pd.Series(rewards).to_frame().reset_index().rename(columns={0: \"balance\", \"index\": \"address\"}).set_index(\"address\").sort_values(\"balance\", ascending=False)"
   ]
  },
  {
   "cell_type": "code",
   "execution_count": 126,
   "metadata": {},
   "outputs": [],
   "source": [
    "balances_df = balances_df.reset_index()"
   ]
  },
  {
   "cell_type": "code",
   "execution_count": 127,
   "metadata": {},
   "outputs": [
    {
     "data": {
      "text/html": [
       "<div>\n",
       "<style scoped>\n",
       "    .dataframe tbody tr th:only-of-type {\n",
       "        vertical-align: middle;\n",
       "    }\n",
       "\n",
       "    .dataframe tbody tr th {\n",
       "        vertical-align: top;\n",
       "    }\n",
       "\n",
       "    .dataframe thead th {\n",
       "        text-align: right;\n",
       "    }\n",
       "</style>\n",
       "<table border=\"1\" class=\"dataframe\">\n",
       "  <thead>\n",
       "    <tr style=\"text-align: right;\">\n",
       "      <th></th>\n",
       "      <th>address</th>\n",
       "      <th>balance</th>\n",
       "    </tr>\n",
       "  </thead>\n",
       "  <tbody>\n",
       "    <tr>\n",
       "      <th>0</th>\n",
       "      <td>er5nOfcT583OQP/QeLR/Wqpl+ttrr3seCwmiZpkTv6U=</td>\n",
       "      <td>1250000.0</td>\n",
       "    </tr>\n",
       "    <tr>\n",
       "      <th>1</th>\n",
       "      <td>e4pHUC9NCi2oNTitTaZfFFRrvjg0AVXx8u1ts+0Pz6U=</td>\n",
       "      <td>1250000.0</td>\n",
       "    </tr>\n",
       "    <tr>\n",
       "      <th>2</th>\n",
       "      <td>1hAgw0k5iFwVNRDmoRG6ZkwGqxpKDJsBVNYKfkceRKg=</td>\n",
       "      <td>1250000.0</td>\n",
       "    </tr>\n",
       "    <tr>\n",
       "      <th>3</th>\n",
       "      <td>6cD8SSQHOQBJOZcem3ycB+sW//DIAm+gScr7huJzOsk=</td>\n",
       "      <td>1250000.0</td>\n",
       "    </tr>\n",
       "    <tr>\n",
       "      <th>4</th>\n",
       "      <td>hPZIQAs0nWDV6gSEurwZQ/6mb2tNYAPXKQbvu0GXx2Y=</td>\n",
       "      <td>1250000.0</td>\n",
       "    </tr>\n",
       "    <tr>\n",
       "      <th>5</th>\n",
       "      <td>yOl+PMVvwYSlhdjimjt7juK8jyZueh87NamQeDBvN1M=</td>\n",
       "      <td>1250000.0</td>\n",
       "    </tr>\n",
       "    <tr>\n",
       "      <th>6</th>\n",
       "      <td>wTJYthVYdrIDOKZrFOoLLMmM6YJUYGVWZBK29m7jtS4=</td>\n",
       "      <td>1250000.0</td>\n",
       "    </tr>\n",
       "    <tr>\n",
       "      <th>7</th>\n",
       "      <td>pmJaelb4hFa0yPtQmpeYVmVu30/UDKFztkeTXnhst9g=</td>\n",
       "      <td>1250000.0</td>\n",
       "    </tr>\n",
       "  </tbody>\n",
       "</table>\n",
       "</div>"
      ],
      "text/plain": [
       "                                        address    balance\n",
       "0  er5nOfcT583OQP/QeLR/Wqpl+ttrr3seCwmiZpkTv6U=  1250000.0\n",
       "1  e4pHUC9NCi2oNTitTaZfFFRrvjg0AVXx8u1ts+0Pz6U=  1250000.0\n",
       "2  1hAgw0k5iFwVNRDmoRG6ZkwGqxpKDJsBVNYKfkceRKg=  1250000.0\n",
       "3  6cD8SSQHOQBJOZcem3ycB+sW//DIAm+gScr7huJzOsk=  1250000.0\n",
       "4  hPZIQAs0nWDV6gSEurwZQ/6mb2tNYAPXKQbvu0GXx2Y=  1250000.0\n",
       "5  yOl+PMVvwYSlhdjimjt7juK8jyZueh87NamQeDBvN1M=  1250000.0\n",
       "6  wTJYthVYdrIDOKZrFOoLLMmM6YJUYGVWZBK29m7jtS4=  1250000.0\n",
       "7  pmJaelb4hFa0yPtQmpeYVmVu30/UDKFztkeTXnhst9g=  1250000.0"
      ]
     },
     "execution_count": 127,
     "metadata": {},
     "output_type": "execute_result"
    }
   ],
   "source": [
    "balances_df"
   ]
  },
  {
   "cell_type": "code",
   "execution_count": null,
   "metadata": {},
   "outputs": [],
   "source": [
    "#balances_df.sort_values(\"balance\").plot(kind=\"barh\", figsize=(10, 25))"
   ]
  },
  {
   "cell_type": "code",
   "execution_count": 130,
   "metadata": {},
   "outputs": [],
   "source": [
    "with open('balance.json', 'w') as json_file:\n",
    "    json.dump(dict(zip([i for i in balances_df['address']],\n",
    "                       [i for i in balances_df['balance']])), \n",
    "              json_file)\n"
   ]
  }
 ],
 "metadata": {
  "kernelspec": {
   "display_name": "Python 3",
   "language": "python",
   "name": "python3"
  },
  "language_info": {
   "codemirror_mode": {
    "name": "ipython",
    "version": 3
   },
   "file_extension": ".py",
   "mimetype": "text/x-python",
   "name": "python",
   "nbconvert_exporter": "python",
   "pygments_lexer": "ipython3",
   "version": "3.7.0"
  }
 },
 "nbformat": 4,
 "nbformat_minor": 2
}
